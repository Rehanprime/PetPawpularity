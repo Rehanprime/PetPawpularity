{
 "cells": [
  {
   "cell_type": "code",
   "execution_count": 1,
   "id": "b0e2c119",
   "metadata": {
    "_cell_guid": "b1076dfc-b9ad-4769-8c92-a6c4dae69d19",
    "_uuid": "8f2839f25d086af736a60e9eeb907d3b93b6e0e5",
    "execution": {
     "iopub.execute_input": "2022-01-13T06:32:07.412393Z",
     "iopub.status.busy": "2022-01-13T06:32:07.402014Z",
     "iopub.status.idle": "2022-01-13T06:32:09.834648Z",
     "shell.execute_reply": "2022-01-13T06:32:09.833605Z",
     "shell.execute_reply.started": "2022-01-13T06:25:00.599307Z"
    },
    "papermill": {
     "duration": 2.455187,
     "end_time": "2022-01-13T06:32:09.834809",
     "exception": false,
     "start_time": "2022-01-13T06:32:07.379622",
     "status": "completed"
    },
    "tags": []
   },
   "outputs": [],
   "source": [
    "import numpy as np\n",
    "import pandas as pd \n",
    "import torch,os\n",
    "from torchvision import datasets ,transforms\n",
    "from torchvision.io import read_image\n",
    "from torch.utils.data import Dataset,DataLoader,Subset\n",
    "import matplotlib.pyplot as plt\n",
    "import torch.nn as nn\n",
    "from torchvision import models\n",
    "from torch import optim\n",
    "from torch.utils.data import random_split\n",
    "from sklearn.model_selection import train_test_split\n",
    "from sklearn.model_selection import KFold\n",
    "from sklearn.model_selection import StratifiedKFold"
   ]
  },
  {
   "cell_type": "code",
   "execution_count": 2,
   "id": "0afc8bae",
   "metadata": {
    "execution": {
     "iopub.execute_input": "2022-01-13T06:32:09.860171Z",
     "iopub.status.busy": "2022-01-13T06:32:09.859668Z",
     "iopub.status.idle": "2022-01-13T06:32:11.391768Z",
     "shell.execute_reply": "2022-01-13T06:32:11.390886Z",
     "shell.execute_reply.started": "2022-01-13T06:25:03.056511Z"
    },
    "papermill": {
     "duration": 1.545408,
     "end_time": "2022-01-13T06:32:11.391906",
     "exception": false,
     "start_time": "2022-01-13T06:32:09.846498",
     "status": "completed"
    },
    "tags": []
   },
   "outputs": [],
   "source": [
    "import sys\n",
    "sys.path.append('../input/timm-pytorch-image-models/pytorch-image-models-master/')\n",
    "import timm\n",
    "from timm import create_model"
   ]
  },
  {
   "cell_type": "code",
   "execution_count": 3,
   "id": "edc0bf33",
   "metadata": {
    "execution": {
     "iopub.execute_input": "2022-01-13T06:32:11.418176Z",
     "iopub.status.busy": "2022-01-13T06:32:11.417651Z",
     "iopub.status.idle": "2022-01-13T06:32:11.459107Z",
     "shell.execute_reply": "2022-01-13T06:32:11.458639Z",
     "shell.execute_reply.started": "2022-01-13T06:25:04.649627Z"
    },
    "papermill": {
     "duration": 0.056865,
     "end_time": "2022-01-13T06:32:11.459234",
     "exception": false,
     "start_time": "2022-01-13T06:32:11.402369",
     "status": "completed"
    },
    "tags": []
   },
   "outputs": [],
   "source": [
    "train_data=pd.read_csv('../input/petfinder-pawpularity-score/train.csv')\n",
    "test_data=pd.read_csv('../input/petfinder-pawpularity-score/test.csv')"
   ]
  },
  {
   "cell_type": "code",
   "execution_count": 4,
   "id": "9c8c6964",
   "metadata": {
    "execution": {
     "iopub.execute_input": "2022-01-13T06:32:11.488527Z",
     "iopub.status.busy": "2022-01-13T06:32:11.487644Z",
     "iopub.status.idle": "2022-01-13T06:32:11.489480Z",
     "shell.execute_reply": "2022-01-13T06:32:11.489938Z",
     "shell.execute_reply.started": "2022-01-13T06:25:04.692540Z"
    },
    "papermill": {
     "duration": 0.020167,
     "end_time": "2022-01-13T06:32:11.490076",
     "exception": false,
     "start_time": "2022-01-13T06:32:11.469909",
     "status": "completed"
    },
    "tags": []
   },
   "outputs": [],
   "source": [
    "class ImageDataset(Dataset):    \n",
    "    def __init__(self, img_dir, transform=None, target_transform=None):\n",
    "        self.img_labels = train_data[['Id','Pawpularity']].copy()\n",
    "        self.img_dir = img_dir \n",
    "        self.transform = transform\n",
    "        self.target_transform = target_transform\n",
    "    \n",
    "    def __len__(self):\n",
    "        return len(self.img_labels)\n",
    "    \n",
    "    def __getitem__(self, idx):\n",
    "        img_path = os.path.join(self.img_dir, self.img_labels.iloc[idx, 0])\n",
    "        image = read_image(img_path+'.jpg')\n",
    "        image_labels = self.img_labels.iloc[idx,1]\n",
    "        if self.transform:\n",
    "            image = self.transform(image)\n",
    "        return image,image_labels"
   ]
  },
  {
   "cell_type": "code",
   "execution_count": 5,
   "id": "8d02f6e8",
   "metadata": {
    "execution": {
     "iopub.execute_input": "2022-01-13T06:32:11.519972Z",
     "iopub.status.busy": "2022-01-13T06:32:11.518325Z",
     "iopub.status.idle": "2022-01-13T06:32:11.520608Z",
     "shell.execute_reply": "2022-01-13T06:32:11.521025Z",
     "shell.execute_reply.started": "2022-01-13T06:25:04.701751Z"
    },
    "papermill": {
     "duration": 0.020356,
     "end_time": "2022-01-13T06:32:11.521155",
     "exception": false,
     "start_time": "2022-01-13T06:32:11.500799",
     "status": "completed"
    },
    "tags": []
   },
   "outputs": [],
   "source": [
    "#dataset for testing\n",
    "class ImageDataset_test(Dataset):\n",
    "    \n",
    "    def __init__(self, img_dir, transform=None, target_transform=None):\n",
    "        self.img_id = test_data[['Id']].copy()\n",
    "        self.img_dir = img_dir \n",
    "        self.transform = transform\n",
    "        self.target_transform = target_transform\n",
    "\n",
    "    def __len__(self):\n",
    "        return len(self.img_id)\n",
    "\n",
    "    def __getitem__(self, idx):\n",
    "        img_path = os.path.join(self.img_dir, self.img_id.iloc[idx, 0])\n",
    "        image = read_image(img_path+'.jpg')\n",
    "        image_id = self.img_id.iloc[idx,0]\n",
    "        if self.transform:\n",
    "            image = self.transform(image)\n",
    "        return image,image_id"
   ]
  },
  {
   "cell_type": "code",
   "execution_count": 6,
   "id": "0aabbaec",
   "metadata": {
    "execution": {
     "iopub.execute_input": "2022-01-13T06:32:11.556939Z",
     "iopub.status.busy": "2022-01-13T06:32:11.556232Z",
     "iopub.status.idle": "2022-01-13T06:32:11.559115Z",
     "shell.execute_reply": "2022-01-13T06:32:11.558648Z",
     "shell.execute_reply.started": "2022-01-13T06:25:04.711350Z"
    },
    "papermill": {
     "duration": 0.027576,
     "end_time": "2022-01-13T06:32:11.559231",
     "exception": false,
     "start_time": "2022-01-13T06:32:11.531655",
     "status": "completed"
    },
    "tags": []
   },
   "outputs": [],
   "source": [
    "\n",
    "\n",
    "transformed_dataset =  ImageDataset(img_dir='../input/petfinder-pawpularity-score/train/',transform=transforms.Compose([\n",
    "    transforms.Resize(256),transforms.CenterCrop(224),transforms.RandomHorizontalFlip(),\n",
    "     transforms.ConvertImageDtype(torch.float), transforms.Normalize(\n",
    "                mean=[0.485, 0.456, 0.406],\n",
    "                std=[0.229, 0.224, 0.225])]))\n",
    "\n"
   ]
  },
  {
   "cell_type": "code",
   "execution_count": 7,
   "id": "1f2df69d",
   "metadata": {
    "execution": {
     "iopub.execute_input": "2022-01-13T06:32:11.584147Z",
     "iopub.status.busy": "2022-01-13T06:32:11.583506Z",
     "iopub.status.idle": "2022-01-13T06:32:11.586574Z",
     "shell.execute_reply": "2022-01-13T06:32:11.586132Z",
     "shell.execute_reply.started": "2022-01-13T06:25:04.734158Z"
    },
    "papermill": {
     "duration": 0.01705,
     "end_time": "2022-01-13T06:32:11.586681",
     "exception": false,
     "start_time": "2022-01-13T06:32:11.569631",
     "status": "completed"
    },
    "tags": []
   },
   "outputs": [],
   "source": [
    "train_features=['Subject Focus','Eyes','Face','Near','Action','Accessory','Group','Collage','Human','Occlusion','Info','Blur']\n",
    "\n",
    "\n",
    "temp_data=train_data[train_features]"
   ]
  },
  {
   "cell_type": "code",
   "execution_count": 8,
   "id": "3d1b64ad",
   "metadata": {
    "execution": {
     "iopub.execute_input": "2022-01-13T06:32:11.611307Z",
     "iopub.status.busy": "2022-01-13T06:32:11.609642Z",
     "iopub.status.idle": "2022-01-13T06:32:11.611933Z",
     "shell.execute_reply": "2022-01-13T06:32:11.612373Z",
     "shell.execute_reply.started": "2022-01-13T06:25:04.742413Z"
    },
    "papermill": {
     "duration": 0.016226,
     "end_time": "2022-01-13T06:32:11.612504",
     "exception": false,
     "start_time": "2022-01-13T06:32:11.596278",
     "status": "completed"
    },
    "tags": []
   },
   "outputs": [],
   "source": [
    "\n",
    "\n",
    "kf=  StratifiedKFold(n_splits=5,random_state=42,shuffle=True)\n",
    "\n"
   ]
  },
  {
   "cell_type": "code",
   "execution_count": 9,
   "id": "6c4409ae",
   "metadata": {
    "execution": {
     "iopub.execute_input": "2022-01-13T06:32:11.638356Z",
     "iopub.status.busy": "2022-01-13T06:32:11.637714Z",
     "iopub.status.idle": "2022-01-13T06:32:11.640256Z",
     "shell.execute_reply": "2022-01-13T06:32:11.639875Z",
     "shell.execute_reply.started": "2022-01-13T06:25:19.064717Z"
    },
    "papermill": {
     "duration": 0.017869,
     "end_time": "2022-01-13T06:32:11.640388",
     "exception": false,
     "start_time": "2022-01-13T06:32:11.622519",
     "status": "completed"
    },
    "tags": []
   },
   "outputs": [],
   "source": [
    "\n",
    "\n",
    "def model_initialise():\n",
    "    model=create_model('swin_large_patch4_window7_224',pretrained=True)\n",
    "    model.head=nn.Sequential(nn.Linear(1536,64),nn.BatchNorm1d(64),nn.ReLU(),nn.Linear(64,1))\n",
    "    for param in model.parameters():\n",
    "        param.require_grad=False\n",
    "    for param in model.head.parameters():\n",
    "        param.require_grad=True\n",
    "    model.to('cuda:0')\n",
    "    return model\n",
    "\n"
   ]
  },
  {
   "cell_type": "code",
   "execution_count": 10,
   "id": "88f572c8",
   "metadata": {
    "execution": {
     "iopub.execute_input": "2022-01-13T06:32:11.674092Z",
     "iopub.status.busy": "2022-01-13T06:32:11.672554Z",
     "iopub.status.idle": "2022-01-13T06:32:11.674699Z",
     "shell.execute_reply": "2022-01-13T06:32:11.675089Z",
     "shell.execute_reply.started": "2022-01-13T06:31:14.081128Z"
    },
    "papermill": {
     "duration": 0.025303,
     "end_time": "2022-01-13T06:32:11.675200",
     "exception": false,
     "start_time": "2022-01-13T06:32:11.649897",
     "status": "completed"
    },
    "tags": []
   },
   "outputs": [],
   "source": [
    "def train_model(fold,model,train_data_loader,val_data_loader):\n",
    "    criterion=nn.MSELoss()\n",
    "    optimizer=optim.AdamW(model.head.parameters(),weight_decay=5e-3,lr=1e-3)\n",
    "    reduce_lr= optim.lr_scheduler.StepLR(optimizer, step_size=2, gamma=0.6,verbose=True)\n",
    "    #--------------------------------------------------------------------------------------------------\n",
    "    best_model=model\n",
    "    best_val=1000\n",
    "    num_epochs=5\n",
    "    \n",
    "#-------------------------------------------------------------------------------------------\n",
    "    running_loss=0.0\n",
    "    print('---------------------Training model now.......')\n",
    "    for epoch in range(num_epochs):\n",
    "        model.train()\n",
    "        running_loss=0.0\n",
    "        for i,(train_features,train_labels) in enumerate(train_data_loader):\n",
    "            train_features=train_features.to('cuda:0')\n",
    "            train_labels=train_labels.to('cuda:0')\n",
    "            train_labels=train_labels.to(torch.float32)\n",
    "            #rint(plt.hist((train_labels.cpu().numpy())))\n",
    "            train_labels=train_labels.view(-1,1)\n",
    "            #train_labels/=100.0\n",
    "            out=model(train_features)\n",
    "            #print(out[0],train_labels[0])\n",
    "            loss = criterion(out, train_labels)\n",
    "            with torch.no_grad():\n",
    "                running_loss+=np.sqrt(loss.item()) \n",
    "            loss.backward()  \n",
    "            \n",
    "            \n",
    "        # Update model parameters\n",
    "            optimizer.step()\n",
    "            optimizer.zero_grad()\n",
    "            del out,loss,train_features,train_labels\n",
    "            torch.cuda.empty_cache()\n",
    "            torch.cuda.synchronize()\n",
    "    \n",
    "    \n",
    "        with torch.no_grad():\n",
    "            print('fold:',fold,' avg loss after ',epoch+1,' epochs:',running_loss/233)\n",
    "            val_loss_total=0\n",
    "            model.eval()\n",
    "            for i,(val_features,val_labels) in enumerate(val_data_loader):\n",
    "                val_features,val_labels=next(iter(val_data_loader))\n",
    "                val_features=val_features.to('cuda:0')\n",
    "                val_labels=val_labels.to('cuda:0')\n",
    "                val_labels=val_labels.to(torch.float32)\n",
    "                #val_labels/=100\n",
    "                val_out=model(val_features)\n",
    "                val_labels=val_labels.view(-1,1)\n",
    "                val_loss=criterion(val_out,val_labels)\n",
    "                val_loss_total+=np.sqrt(val_loss.item())\n",
    "                del val_out,val_loss,val_features,val_labels\n",
    "            \n",
    "                torch.cuda.empty_cache()\n",
    "                torch.cuda.synchronize()\n",
    "            reduce_lr.step()\n",
    "            print('validation loss after epoch ',epoch+1,':',val_loss_total/78)\n",
    "            if(val_loss_total/78<best_val):\n",
    "                best_val=val_loss_total/78\n",
    "                best_model=model\n",
    "                \n",
    "    #finetune(fold,model,train_data_loader,val_data_loader)\n",
    "    save_model(best_model,best_val,fold)"
   ]
  },
  {
   "cell_type": "code",
   "execution_count": 11,
   "id": "9b970ce9",
   "metadata": {
    "execution": {
     "iopub.execute_input": "2022-01-13T06:32:11.699196Z",
     "iopub.status.busy": "2022-01-13T06:32:11.697684Z",
     "iopub.status.idle": "2022-01-13T06:32:11.699805Z",
     "shell.execute_reply": "2022-01-13T06:32:11.700190Z",
     "shell.execute_reply.started": "2022-01-13T06:31:22.416894Z"
    },
    "papermill": {
     "duration": 0.015737,
     "end_time": "2022-01-13T06:32:11.700329",
     "exception": false,
     "start_time": "2022-01-13T06:32:11.684592",
     "status": "completed"
    },
    "tags": []
   },
   "outputs": [],
   "source": [
    "\n",
    "\n",
    "def save_model(best_model,best_val,fold):\n",
    "    torch.save(best_model.state_dict(),'model_'+str(fold)+'_weights.pth')\n",
    "    print('----------Fold:',fold,' ,model saved with val_accuracy:',best_val,'------------------')\n",
    "\n"
   ]
  },
  {
   "cell_type": "code",
   "execution_count": 12,
   "id": "6a82b0bd",
   "metadata": {
    "execution": {
     "iopub.execute_input": "2022-01-13T06:32:11.724944Z",
     "iopub.status.busy": "2022-01-13T06:32:11.724393Z",
     "iopub.status.idle": "2022-01-13T10:38:45.925474Z",
     "shell.execute_reply": "2022-01-13T10:38:45.924996Z"
    },
    "papermill": {
     "duration": 14794.215951,
     "end_time": "2022-01-13T10:38:45.925636",
     "exception": false,
     "start_time": "2022-01-13T06:32:11.709685",
     "status": "completed"
    },
    "tags": []
   },
   "outputs": [
    {
     "name": "stderr",
     "output_type": "stream",
     "text": [
      "/opt/conda/lib/python3.7/site-packages/sklearn/model_selection/_split.py:672: UserWarning: The least populated class in y has only 4 members, which is less than n_splits=5.\n",
      "  % (min_groups, self.n_splits)), UserWarning)\n",
      "Downloading: \"https://github.com/SwinTransformer/storage/releases/download/v1.0.0/swin_large_patch4_window7_224_22kto1k.pth\" to /root/.cache/torch/hub/checkpoints/swin_large_patch4_window7_224_22kto1k.pth\n"
     ]
    },
    {
     "name": "stdout",
     "output_type": "stream",
     "text": [
      "Adjusting learning rate of group 0 to 1.0000e-03.\n",
      "---------------------Training model now.......\n",
      "fold: 1  avg loss after  1  epochs: 40.6063087346095\n",
      "Adjusting learning rate of group 0 to 1.0000e-03.\n",
      "validation loss after epoch  1 : 23.757585181872425\n",
      "fold: 1  avg loss after  2  epochs: 26.177763665800942\n",
      "Adjusting learning rate of group 0 to 6.0000e-04.\n",
      "validation loss after epoch  2 : 12.096174045224556\n",
      "fold: 1  avg loss after  3  epochs: 19.05640798048966\n",
      "Adjusting learning rate of group 0 to 6.0000e-04.\n",
      "validation loss after epoch  3 : 10.666304976362834\n",
      "fold: 1  avg loss after  4  epochs: 17.95339998869538\n",
      "Adjusting learning rate of group 0 to 3.6000e-04.\n",
      "validation loss after epoch  4 : 10.519496929143529\n",
      "fold: 1  avg loss after  5  epochs: 17.54938934133827\n",
      "Adjusting learning rate of group 0 to 3.6000e-04.\n",
      "validation loss after epoch  5 : 10.391031507199228\n",
      "----------Fold: 1  ,model saved with val_accuracy: 10.391031507199228 ------------------\n",
      "Adjusting learning rate of group 0 to 1.0000e-03.\n",
      "---------------------Training model now.......\n",
      "fold: 2  avg loss after  1  epochs: 40.151099696596305\n"
     ]
    },
    {
     "name": "stderr",
     "output_type": "stream",
     "text": [
      "Traceback (most recent call last):\n"
     ]
    },
    {
     "name": "stdout",
     "output_type": "stream",
     "text": [
      "Adjusting learning rate of group 0 to 1.0000e-03.\n",
      "validation loss after epoch  1 : 27.527192846972003\n",
      "fold: 2  avg loss after  2  epochs: 26.124576370042153\n",
      "Adjusting learning rate of group 0 to 6.0000e-04.\n",
      "validation loss after epoch  2 : 19.243773394119042\n",
      "fold: 2  avg loss after  3  epochs: 19.044264874019866\n",
      "Adjusting learning rate of group 0 to 6.0000e-04.\n",
      "validation loss after epoch  3 : 18.188273095265856\n",
      "fold: 2  avg loss after  4  epochs: 17.96152474342631\n",
      "Adjusting learning rate of group 0 to 3.6000e-04.\n",
      "validation loss after epoch  4 : 18.201695539601904\n",
      "fold: 2  avg loss after  5  epochs: 17.500290627038385\n",
      "Adjusting learning rate of group 0 to 3.6000e-04.\n",
      "validation loss after epoch  5 : 18.130855083116554\n",
      "----------Fold: 2  ,model saved with val_accuracy: 18.130855083116554 ------------------\n",
      "Adjusting learning rate of group 0 to 1.0000e-03.\n",
      "---------------------Training model now.......\n",
      "fold: 3  avg loss after  1  epochs: 40.179250453813665\n",
      "Adjusting learning rate of group 0 to 1.0000e-03.\n",
      "validation loss after epoch  1 : 28.318700469756187\n",
      "fold: 3  avg loss after  2  epochs: 26.14008149936353\n",
      "Adjusting learning rate of group 0 to 6.0000e-04.\n",
      "validation loss after epoch  2 : 19.11110210242663\n",
      "fold: 3  avg loss after  3  epochs: 18.921466308446455\n"
     ]
    },
    {
     "name": "stderr",
     "output_type": "stream",
     "text": [
      "Traceback (most recent call last):\n"
     ]
    },
    {
     "name": "stdout",
     "output_type": "stream",
     "text": [
      "Adjusting learning rate of group 0 to 6.0000e-04.\n",
      "validation loss after epoch  3 : 16.155027811622038\n",
      "fold: 3  avg loss after  4  epochs: 18.008651652725934\n",
      "Adjusting learning rate of group 0 to 3.6000e-04.\n",
      "validation loss after epoch  4 : 16.58107288669583\n",
      "fold: 3  avg loss after  5  epochs: 17.532271631179448\n"
     ]
    },
    {
     "name": "stderr",
     "output_type": "stream",
     "text": [
      "Traceback (most recent call last):\n"
     ]
    },
    {
     "name": "stdout",
     "output_type": "stream",
     "text": [
      "Adjusting learning rate of group 0 to 3.6000e-04.\n",
      "validation loss after epoch  5 : 16.062098076994932\n",
      "----------Fold: 3  ,model saved with val_accuracy: 16.062098076994932 ------------------\n",
      "Adjusting learning rate of group 0 to 1.0000e-03.\n",
      "---------------------Training model now.......\n",
      "fold: 4  avg loss after  1  epochs: 40.37917540994289\n",
      "Adjusting learning rate of group 0 to 1.0000e-03.\n",
      "validation loss after epoch  1 : 23.3766331076199\n",
      "fold: 4  avg loss after  2  epochs: 26.39133122232366\n",
      "Adjusting learning rate of group 0 to 6.0000e-04.\n",
      "validation loss after epoch  2 : 13.199782647546714\n",
      "fold: 4  avg loss after  3  epochs: 19.21905076752003\n",
      "Adjusting learning rate of group 0 to 6.0000e-04.\n",
      "validation loss after epoch  3 : 12.01169831595139\n",
      "fold: 4  avg loss after  4  epochs: 18.112903411353425\n",
      "Adjusting learning rate of group 0 to 3.6000e-04.\n",
      "validation loss after epoch  4 : 11.106774434781906\n",
      "fold: 4  avg loss after  5  epochs: 17.718044699194813\n",
      "Adjusting learning rate of group 0 to 3.6000e-04.\n",
      "validation loss after epoch  5 : 11.95537607087065\n",
      "----------Fold: 4  ,model saved with val_accuracy: 11.106774434781906 ------------------\n",
      "Adjusting learning rate of group 0 to 1.0000e-03.\n",
      "---------------------Training model now.......\n",
      "fold: 5  avg loss after  1  epochs: 41.28384942662698\n",
      "Adjusting learning rate of group 0 to 1.0000e-03.\n",
      "validation loss after epoch  1 : 27.70012257042404\n",
      "fold: 5  avg loss after  2  epochs: 27.0456017087657\n",
      "Adjusting learning rate of group 0 to 6.0000e-04.\n",
      "validation loss after epoch  2 : 16.37675841365047\n",
      "fold: 5  avg loss after  3  epochs: 19.425403034152854\n",
      "Adjusting learning rate of group 0 to 6.0000e-04.\n",
      "validation loss after epoch  3 : 14.561731308406442\n",
      "fold: 5  avg loss after  4  epochs: 18.30412860941482\n"
     ]
    },
    {
     "name": "stderr",
     "output_type": "stream",
     "text": [
      "Traceback (most recent call last):\n",
      "  File \"/opt/conda/lib/python3.7/multiprocessing/queues.py\", line 242, in _feed\n",
      "    send_bytes(obj)\n"
     ]
    },
    {
     "name": "stdout",
     "output_type": "stream",
     "text": [
      "Adjusting learning rate of group 0 to 3.6000e-04.\n",
      "validation loss after epoch  4 : 14.550580429676844\n",
      "fold: 5  avg loss after  5  epochs: 17.654385935367106\n",
      "Adjusting learning rate of group 0 to 3.6000e-04.\n",
      "validation loss after epoch  5 : 14.30881192051414\n",
      "----------Fold: 5  ,model saved with val_accuracy: 14.30881192051414 ------------------\n"
     ]
    }
   ],
   "source": [
    "\n",
    "\n",
    "fold=0\n",
    "for train_index, test_index in  kf.split(np.zeros(temp_data.shape),train_data['Pawpularity']):\n",
    "    fold=fold+1\n",
    "    \n",
    "    train_split=Subset(transformed_dataset,train_index)\n",
    "    test_split=Subset(transformed_dataset,test_index)\n",
    "    #print(train_split)\n",
    "    #print('test split:',test_split)\n",
    "    train_data_loader=DataLoader(train_split,batch_size=32,shuffle=True,num_workers=2,pin_memory=True)\n",
    "    val_data_loader=DataLoader(test_split,batch_size=32,shuffle=False,num_workers=2,pin_memory=True)\n",
    "    #print(next(iter(train_data_loader)))\n",
    "    #print(next(iter(val_data_loader)))\n",
    "    model=model_initialise() \n",
    "    train_model(fold,model,train_data_loader,val_data_loader)\n",
    " \n"
   ]
  },
  {
   "cell_type": "code",
   "execution_count": null,
   "id": "6216df28",
   "metadata": {
    "papermill": {
     "duration": 0.026436,
     "end_time": "2022-01-13T10:38:45.978951",
     "exception": false,
     "start_time": "2022-01-13T10:38:45.952515",
     "status": "completed"
    },
    "tags": []
   },
   "outputs": [],
   "source": []
  }
 ],
 "metadata": {
  "kernelspec": {
   "display_name": "Python 3",
   "language": "python",
   "name": "python3"
  },
  "language_info": {
   "codemirror_mode": {
    "name": "ipython",
    "version": 3
   },
   "file_extension": ".py",
   "mimetype": "text/x-python",
   "name": "python",
   "nbconvert_exporter": "python",
   "pygments_lexer": "ipython3",
   "version": "3.7.12"
  },
  "papermill": {
   "default_parameters": {},
   "duration": 14808.974421,
   "end_time": "2022-01-13T10:38:48.425519",
   "environment_variables": {},
   "exception": null,
   "input_path": "__notebook__.ipynb",
   "output_path": "__notebook__.ipynb",
   "parameters": {},
   "start_time": "2022-01-13T06:31:59.451098",
   "version": "2.3.3"
  }
 },
 "nbformat": 4,
 "nbformat_minor": 5
}
